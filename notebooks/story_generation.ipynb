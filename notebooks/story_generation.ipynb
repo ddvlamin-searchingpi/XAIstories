{
  "cells": [
    {
      "cell_type": "markdown",
      "metadata": {
        "id": "2g1xRwjcSwZp"
      },
      "source": [
        "# Tell Me a Story! - SHAPStories Example\n",
        "\n",
        "This notebook shows an example of how to generate SHAPstories using Ollama models."
      ]
    },
    {
      "cell_type": "code",
      "execution_count": 1,
      "metadata": {
        "colab": {
          "base_uri": "https://localhost:8080/"
        },
        "id": "B7TGoHuPRz1o",
        "outputId": "0cd87a3a-9d0e-4757-c6f5-fca3533beb3c"
      },
      "outputs": [
        {
          "name": "stderr",
          "output_type": "stream",
          "text": [
            "/usr/local/lib/python3.13/site-packages/tqdm/auto.py:21: TqdmWarning: IProgress not found. Please update jupyter and ipywidgets. See https://ipywidgets.readthedocs.io/en/stable/user_install.html\n",
            "  from .autonotebook import tqdm as notebook_tqdm\n"
          ]
        }
      ],
      "source": [
        "import shap\n",
        "import pandas as pd\n",
        "import numpy as np\n",
        "\n",
        "from sklearn.pipeline import Pipeline\n",
        "from sklearn.preprocessing import StandardScaler\n",
        "from sklearn.model_selection import GridSearchCV, KFold\n",
        "from sklearn.linear_model import LogisticRegression\n",
        "from sklearn.model_selection import train_test_split\n",
        "from sklearn.metrics import accuracy_score\n",
        "\n",
        "from stories import SHAPstory\n",
        "from stories.stories import SHAP_TABLE_COLUMNS\n",
        "from stories.llm_wrappers import OllamaWrapper\n",
        "from stories.prompts import make_shap_narrative_prompt, make_rank_evaluation_prompt\n",
        "from stories.explainers import make_linear_interventional_shap_explainer"
      ]
    },
    {
      "cell_type": "markdown",
      "metadata": {
        "id": "B3cIJOTOR-t_"
      },
      "source": [
        "## FIFA Example"
      ]
    },
    {
      "cell_type": "markdown",
      "metadata": {},
      "source": [
        "### Load data"
      ]
    },
    {
      "cell_type": "code",
      "execution_count": 2,
      "metadata": {},
      "outputs": [],
      "source": [
        "# Load Data and Split\n",
        "data = pd.read_csv(\"../data/FIFA_2018_Statistics.csv\")\n",
        "data = data.merge(\n",
        "    data[[\"Date\", \"Team\", \"Goal Scored\"]],\n",
        "    left_on=[\"Date\", \"Opponent\"],\n",
        "    right_on=[\"Date\", \"Team\"],\n",
        "    suffixes=[\"\", \"_y\"]).drop(columns=[\"Team_y\"]).rename(columns={\"Goal Scored_y\": \"Goal against\"})\n",
        "\n",
        "feature_names = [i for i in data.columns if data[i].dtype in [np.int64, np.int64]]\n",
        "x = data[feature_names]\n",
        "\n",
        "y = (data[\"Man of the Match\"] == \"Yes\")\n",
        "\n",
        "x_train, x_test, y_train, y_test = train_test_split(x, y, test_size=0.2, random_state=42)"
      ]
    },
    {
      "cell_type": "markdown",
      "metadata": {},
      "source": [
        "### Train and Compare Accuracy of Various Models"
      ]
    },
    {
      "cell_type": "code",
      "execution_count": 3,
      "metadata": {},
      "outputs": [
        {
          "name": "stdout",
          "output_type": "stream",
          "text": [
            "Accuracy: 0.7307692307692307\n"
          ]
        }
      ],
      "source": [
        "logreg_pipe = Pipeline([\n",
        "    (\"scaler\", StandardScaler()),\n",
        "    (\"classifier\", LogisticRegression(max_iter=5000, solver=\"lbfgs\"))\n",
        "])\n",
        "\n",
        "param_grid = {\n",
        "    \"classifier__C\": np.logspace(-3, 3, 13)\n",
        "}\n",
        "\n",
        "cv = KFold(n_splits=5, shuffle=True, random_state=42)\n",
        "\n",
        "logreg_search = GridSearchCV(\n",
        "    estimator=logreg_pipe,\n",
        "    param_grid=param_grid,\n",
        "    cv=cv,\n",
        "    scoring=\"roc_auc\",   # swap for the metric you care about\n",
        "    n_jobs=-1,\n",
        "    refit=True\n",
        ")\n",
        "\n",
        "logreg_search.fit(x_train, y_train)\n",
        "best_logreg = logreg_search.best_estimator_\n",
        "\n",
        "test_predictions = logreg_search.predict(x_test)\n",
        "test_probabilities = logreg_search.predict_proba(x_test)\n",
        "accuracy = accuracy_score(y_test, test_predictions)\n",
        "print(\"Accuracy:\", accuracy)"
      ]
    },
    {
      "cell_type": "markdown",
      "metadata": {
        "id": "_wQLPn65Sapz"
      },
      "source": [
        "Manually Created Descriptions"
      ]
    },
    {
      "cell_type": "code",
      "execution_count": 4,
      "metadata": {
        "id": "Wmhge5RHSY6k"
      },
      "outputs": [],
      "source": [
        "task_description = \"\"\"predict whether a football team will have the \"Man of the Match\" winner in a FIFA Worldcup match, based on the team's statistics \"\"\"\n",
        "\n",
        "input_description = \"the match\"\n",
        "\n",
        "class_descriptions = {\n",
        "    0: \"class for the team that will not have a player who wins the 'Man of the Match'\",\n",
        "    1: \"class for the team that will have a player who wins the 'Man of the Match'\"\n",
        "}\n",
        "\n",
        "feature_desc = [\n",
        "    'Number of goals scored by the team during the match',\n",
        "    'Percentage of ball possession by the team during the match',\n",
        "    'Number of attempts or shots taken by the team',\n",
        "    'Number of shots that were on target',\n",
        "    'Number of shots that went off target',\n",
        "    'Number of shots that were blocked by the opponent',\n",
        "    'Number of corner kicks taken by the team',\n",
        "    'Number of times the team was caught offside',\n",
        "    'Number of free kicks taken by the team',\n",
        "    \"Number of saves made by the team's goalkeeper\",\n",
        "    'Percentage of passes that successfully reached a teammate',\n",
        "    'Total number of passes made by the team',\n",
        "    \"Total distance covered by the team's players during the match, in kilometers\",\n",
        "    'Number of fouls committed by the team',\n",
        "    'Number of yellow cards received by the team',\n",
        "    'Number of yellow-red cards received by the team',\n",
        "    'Number of red cards received by the team',\n",
        "    'Number of goals scored by the team during the penalty shootout',\n",
        "    \"Number of goals that were conceded by the team's goalkeeper\",\n",
        "]\n",
        "\n",
        "features_df = pd.DataFrame({\n",
        "    \"Feature name\": list(x.columns),\n",
        "    \"Feature description\": feature_desc\n",
        "})\n",
        "\n",
        "prompt_template = make_shap_narrative_prompt(\n",
        "    task_description,\n",
        "    input_description,\n",
        "    class_descriptions,\n",
        ")"
      ]
    },
    {
      "cell_type": "code",
      "execution_count": 5,
      "metadata": {},
      "outputs": [],
      "source": [
        "#llm = OllamaWrapper(\"gemma3:4b\")\n",
        "llm = OllamaWrapper(\"llama3.1-greedy:latest\", temperature=0.0)"
      ]
    },
    {
      "cell_type": "code",
      "execution_count": 18,
      "metadata": {},
      "outputs": [],
      "source": [
        "explainer = make_linear_interventional_shap_explainer(logreg_search, x_test, max_story_features=8, only_positive_shaps=True)"
      ]
    },
    {
      "cell_type": "markdown",
      "metadata": {
        "id": "PmsE6j1QTIOr"
      },
      "source": [
        "Generate Stories for both pre-trained random forest and SVM"
      ]
    },
    {
      "cell_type": "code",
      "execution_count": 19,
      "metadata": {
        "id": "cNvc28nhSlkx"
      },
      "outputs": [
        {
          "name": "stdout",
          "output_type": "stream",
          "text": [
            "An AI model was used to predict whether a football team will have the \"Man of the Match\" winner in a FIFA Worldcup match, based on the team's statistics . The input features to the model include data about the match. The target variable represents one of the following classes:\n",
            "- class label 0 represents the class for the team that will not have a player who wins the 'Man of the Match'\n",
            "- class label 1 represents the class for the team that will have a player who wins the 'Man of the Match'\n",
            "\n",
            "The AI model predicted a certain instance of the dataset to belong to the class with label 1 with probability 0.86.\n",
            "\n",
            "The post-hoc feature attribution method used to explain the instance's predicted class is SHAP. The goal of SHAP is to explain the prediction of an instance by computing the contribution of each feature to the prediction. Each individual SHAP value is a measure of how much additional probability this feature adds or subtracts  in the predicted probability relative to the base level probability. This relative nature of the SHAP values might have unexpected consequences that you are to take into account. For example, features that should intuitively contribute in a positive way (and vice versa), can still have negative SHAP values if their value is below an average in the dataset.\n",
            "\n",
            "The provided feature attribution table is generated to explain why the instance is predicted to be or not be of the target class 1. It includes every feature along with its value for that instance, the SHAP value assigned to it etc.\n",
            "    \n",
            "\n",
            "Table containing feature values, SHAP values, feature descriptions and more:\n",
            "          Feature name  Feature value  Average feature value                                                          Feature description  Shap value\n",
            "           Goal Scored              2               1.384615                          Number of goals scored by the team during the match    1.369433\n",
            "       Pass Accuracy %             89              83.384615                    Percentage of passes that successfully reached a teammate    0.307003\n",
            "Distance Covered (Kms)             97             106.615385 Total distance covered by the team's players during the match, in kilometers    0.260371\n",
            "            Free Kicks             24              13.884615                                       Number of free kicks taken by the team    0.240641\n",
            "               Corners              5               4.576923                                     Number of corner kicks taken by the team    0.234285\n",
            "               Blocked              2               3.538462                            Number of shots that were blocked by the opponent    0.220169\n",
            "          Goal against              1               1.076923                  Number of goals that were conceded by the team's goalkeeper    0.204699\n",
            "       Fouls Committed              7              13.538462                                        Number of fouls committed by the team    0.180553\n",
            "\n",
            "Can you come up with a plausible and fluent story as to why the model could have predicted this outcome, based on the most influential positive and most influential negative SHAP values relative to class 1? Focus on the features with the highest absolute SHAP values. Try to explain the most important feature values in this story, as well as potential interactions that fit the story. In the story you can refer to the actual feature values. No need though to enumerate individual features outside of the story. Limit your answer to 8 sentences.\n",
            "\n"
          ]
        }
      ],
      "source": [
        "story_generator = SHAPstory(\n",
        "    explainer, \n",
        "    llm, \n",
        "    prompt_template,\n",
        "    features_df\n",
        ")\n",
        "\n",
        "sample_index = 0\n",
        "\n",
        "x_test_0 = x_test.iloc[sample_index]\n",
        "test_prediction_0 = int(test_predictions[sample_index])\n",
        "test_probabilities_0 = test_probabilities[sample_index][test_prediction_0]\n",
        "\n",
        "explanation_df = explainer.make_explanation_table(x_test_0)\n",
        "explanation_df = explanation_df.merge(features_df, on=\"Feature name\")\n",
        "\n",
        "prompt = story_generator.generate_prompt(test_prediction_0, test_probabilities_0, explanation_df[SHAP_TABLE_COLUMNS])\n",
        "\n",
        "print(prompt)"
      ]
    },
    {
      "cell_type": "code",
      "execution_count": 25,
      "metadata": {},
      "outputs": [],
      "source": [
        "stories = story_generator.generate_stories(x_test.iloc[0:1])"
      ]
    },
    {
      "cell_type": "code",
      "execution_count": 26,
      "metadata": {},
      "outputs": [],
      "source": [
        "explanation_tables = []\n",
        "\n",
        "for i, story in enumerate(stories):\n",
        "    explanation_table = story[\"explanation_table\"].copy()\n",
        "    explanation_table[\"story_id\"] = i\n",
        "    descriptions = explanation_table[[\"Feature name\", \"Feature description\"]].to_string(index=False)\n",
        "    story[\"rank_evaluation_prompt\"] = make_rank_evaluation_prompt(\n",
        "        task_description,\n",
        "        input_description,\n",
        "        class_descriptions, \n",
        "        story[\"story\"],\n",
        "        feature_desc=descriptions\n",
        "    )\n",
        "\n",
        "    with open(f\"evaluation_prompt_{i}.txt\", \"w\") as fout:\n",
        "        fout.write(story[\"rank_evaluation_prompt\"])\n",
        "\n",
        "    explanation_tables.append(explanation_table)"
      ]
    },
    {
      "cell_type": "code",
      "execution_count": 27,
      "metadata": {},
      "outputs": [
        {
          "name": "stdout",
          "output_type": "stream",
          "text": [
            "The model predicted a team to win the \"Man of the Match\" award with a high probability, and SHAP analysis revealed that the team's impressive goal-scoring performance was a major contributor to this prediction. With 2 goals scored, significantly above the average of 1.38, the team demonstrated exceptional attacking prowess, which likely caught the model's attention. The team's ability to successfully execute passes at an 89% rate also played a significant role in the prediction, as it indicated a high level of cohesion and teamwork. However, the model also took into account the team's relatively low distance covered during the match, which might have been seen as a potential weakness. On the other hand, the team's ability to take advantage of free kicks, with 24 attempts, was another key factor in the prediction. The model may have viewed this as an indication of the team's willingness to take risks and try new things, which could be beneficial in high-pressure situations like the World Cup. Overall, the combination of these factors led the model to conclude that this team had a strong chance of producing a standout player.\n"
          ]
        }
      ],
      "source": [
        "print(stories[0][\"story\"])"
      ]
    },
    {
      "cell_type": "code",
      "execution_count": 28,
      "metadata": {},
      "outputs": [
        {
          "name": "stdout",
          "output_type": "stream",
          "text": [
            "An AI model was used to predict whether a football team will have the \"Man of the Match\" winner in a FIFA Worldcup match, based on the team's statistics . The input features to the model include data about the match. The target variable represents one of the following classes:\n",
            "- class label 0 represents the class for the team that will not have a player who wins the 'Man of the Match'\n",
            "- class label 1 represents the class for the team that will have a player who wins the 'Man of the Match'\n",
            "\n",
            "The AI model predicted a certain instance of the dataset to belong to the class with label 1 with probability 0.86.\n",
            "\n",
            "The post-hoc feature attribution method used to explain the instance's predicted class is SHAP. The goal of SHAP is to explain the prediction of an instance by computing the contribution of each feature to the prediction. Each individual SHAP value is a measure of how much additional probability this feature adds or subtracts  in the predicted probability relative to the base level probability. This relative nature of the SHAP values might have unexpected consequences that you are to take into account. For example, features that should intuitively contribute in a positive way (and vice versa), can still have negative SHAP values if their value is below an average in the dataset.\n",
            "\n",
            "The provided feature attribution table is generated to explain why the instance is predicted to be or not be of the target class 1. It includes every feature along with its value for that instance, the SHAP value assigned to it etc.\n",
            "    \n",
            "\n",
            "Table containing feature values, SHAP values, feature descriptions and more:\n",
            "          Feature name  Feature value  Average feature value                                                          Feature description  Shap value\n",
            "           Goal Scored              2               1.384615                          Number of goals scored by the team during the match    1.369433\n",
            "       Pass Accuracy %             89              83.384615                    Percentage of passes that successfully reached a teammate    0.307003\n",
            "Distance Covered (Kms)             97             106.615385 Total distance covered by the team's players during the match, in kilometers    0.260371\n",
            "            Free Kicks             24              13.884615                                       Number of free kicks taken by the team    0.240641\n",
            "               Corners              5               4.576923                                     Number of corner kicks taken by the team    0.234285\n",
            "               Blocked              2               3.538462                            Number of shots that were blocked by the opponent    0.220169\n",
            "          Goal against              1               1.076923                  Number of goals that were conceded by the team's goalkeeper    0.204699\n",
            "       Fouls Committed              7              13.538462                                        Number of fouls committed by the team    0.180553\n",
            "\n",
            "Can you come up with a plausible and fluent story as to why the model could have predicted this outcome, based on the most influential positive and most influential negative SHAP values relative to class 1? Focus on the features with the highest absolute SHAP values. Try to explain the most important feature values in this story, as well as potential interactions that fit the story. In the story you can refer to the actual feature values. No need though to enumerate individual features outside of the story. Limit your answer to 8 sentences.\n",
            "\n"
          ]
        }
      ],
      "source": [
        "print(stories[0][\"generation_prompt\"])"
      ]
    },
    {
      "cell_type": "code",
      "execution_count": 24,
      "metadata": {},
      "outputs": [],
      "source": [
        "pd.concat(explanation_tables).to_csv(\"explanations.csv\", header=True, index=False)"
      ]
    },
    {
      "cell_type": "markdown",
      "metadata": {},
      "source": []
    }
  ],
  "metadata": {
    "colab": {
      "provenance": []
    },
    "kernelspec": {
      "display_name": "Python 3",
      "name": "python3"
    },
    "language_info": {
      "codemirror_mode": {
        "name": "ipython",
        "version": 3
      },
      "file_extension": ".py",
      "mimetype": "text/x-python",
      "name": "python",
      "nbconvert_exporter": "python",
      "pygments_lexer": "ipython3",
      "version": "3.13.7"
    }
  },
  "nbformat": 4,
  "nbformat_minor": 0
}
