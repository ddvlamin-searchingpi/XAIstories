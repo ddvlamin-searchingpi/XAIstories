{
  "cells": [
    {
      "cell_type": "markdown",
      "metadata": {
        "id": "2g1xRwjcSwZp"
      },
      "source": [
        "# Tell Me a Story! - SHAPStories Example\n",
        "\n",
        "This notebook shows an example of how to generate SHAPstories using Ollama models."
      ]
    },
    {
      "cell_type": "code",
      "execution_count": 1,
      "metadata": {
        "colab": {
          "base_uri": "https://localhost:8080/"
        },
        "id": "B7TGoHuPRz1o",
        "outputId": "0cd87a3a-9d0e-4757-c6f5-fca3533beb3c"
      },
      "outputs": [
        {
          "name": "stderr",
          "output_type": "stream",
          "text": [
            "/usr/local/lib/python3.13/site-packages/tqdm/auto.py:21: TqdmWarning: IProgress not found. Please update jupyter and ipywidgets. See https://ipywidgets.readthedocs.io/en/stable/user_install.html\n",
            "  from .autonotebook import tqdm as notebook_tqdm\n"
          ]
        }
      ],
      "source": [
        "import shap\n",
        "import pandas as pd\n",
        "import numpy as np\n",
        "\n",
        "from sklearn.pipeline import Pipeline\n",
        "from sklearn.preprocessing import StandardScaler\n",
        "from sklearn.model_selection import GridSearchCV, KFold\n",
        "from sklearn.ensemble import RandomForestClassifier\n",
        "from sklearn.svm import SVC\n",
        "from sklearn.linear_model import LogisticRegression\n",
        "from sklearn.model_selection import train_test_split\n",
        "from sklearn.metrics import accuracy_score\n",
        "\n",
        "from stories import SHAPstory, unwrap\n",
        "from stories.llm_wrappers import OllamaWrapper\n",
        "from stories.prompts import make_prompt"
      ]
    },
    {
      "cell_type": "markdown",
      "metadata": {
        "id": "B3cIJOTOR-t_"
      },
      "source": [
        "## FIFA Example"
      ]
    },
    {
      "cell_type": "markdown",
      "metadata": {},
      "source": [
        "### Load data"
      ]
    },
    {
      "cell_type": "code",
      "execution_count": 2,
      "metadata": {},
      "outputs": [],
      "source": [
        "# Load Data and Split\n",
        "data = pd.read_csv(\"../data/FIFA_2018_Statistics.csv\")\n",
        "data = data.merge(\n",
        "    data[[\"Date\", \"Team\", \"Goal Scored\"]],\n",
        "    left_on=[\"Date\", \"Opponent\"],\n",
        "    right_on=[\"Date\", \"Team\"],\n",
        "    suffixes=[\"\", \"_y\"]).drop(columns=[\"Team_y\"]).rename(columns={\"Goal Scored_y\": \"Goal against\"})\n",
        "\n",
        "feature_names = [i for i in data.columns if data[i].dtype in [np.int64, np.int64]]\n",
        "x = data[feature_names]\n",
        "\n",
        "y = (data[\"Man of the Match\"] == \"Yes\")\n",
        "\n",
        "x_train, x_test, y_train, y_test = train_test_split(x, y, test_size=0.2, random_state=42)"
      ]
    },
    {
      "cell_type": "markdown",
      "metadata": {},
      "source": [
        "### Train and Compare Accuracy of Various Models"
      ]
    },
    {
      "cell_type": "code",
      "execution_count": 3,
      "metadata": {},
      "outputs": [
        {
          "name": "stdout",
          "output_type": "stream",
          "text": [
            "Accuracy: 0.7307692307692307\n"
          ]
        }
      ],
      "source": [
        "logreg_pipe = Pipeline([\n",
        "    (\"scaler\", StandardScaler()),\n",
        "    (\"classifier\", LogisticRegression(max_iter=5000, solver=\"lbfgs\"))\n",
        "])\n",
        "\n",
        "param_grid = {\n",
        "    \"classifier__C\": np.logspace(-3, 3, 13)\n",
        "}\n",
        "\n",
        "cv = KFold(n_splits=5, shuffle=True, random_state=42)\n",
        "\n",
        "logreg_search = GridSearchCV(\n",
        "    estimator=logreg_pipe,\n",
        "    param_grid=param_grid,\n",
        "    cv=cv,\n",
        "    scoring=\"roc_auc\",   # swap for the metric you care about\n",
        "    n_jobs=-1,\n",
        "    refit=True\n",
        ")\n",
        "\n",
        "logreg_search.fit(x_train, y_train)\n",
        "best_logreg = logreg_search.best_estimator_\n",
        "\n",
        "predictions = logreg_search.predict(x_test)\n",
        "accuracy = accuracy_score(y_test, predictions)\n",
        "print(\"Accuracy:\", accuracy)\n",
        "\n",
        "model = unwrap(logreg_search)\n",
        "preprocessor = logreg_search.best_estimator_[:-1]\n",
        "x_test_preprocessed = preprocessor.transform(x_test)\n",
        "x_test_preprocessed = pd.DataFrame(x_test_preprocessed, columns=x_test.columns)"
      ]
    },
    {
      "cell_type": "markdown",
      "metadata": {
        "id": "_wQLPn65Sapz"
      },
      "source": [
        "Manually Created Descriptions"
      ]
    },
    {
      "cell_type": "code",
      "execution_count": 4,
      "metadata": {
        "id": "Wmhge5RHSY6k"
      },
      "outputs": [],
      "source": [
        "task_description = \"\"\"predict whether a football team will have the \"Man of the Match\" winner in a FIFA Worldcup match, based on the team's statistics \"\"\"\n",
        "\n",
        "input_description = \"the match\"\n",
        "\n",
        "class_descriptions = {\n",
        "    0: \"class for the team that will not have a player who wins the 'Man of the Match'\",\n",
        "    1: \"class for the team that will have a player who wins the 'Man of the Match'\"\n",
        "}\n",
        "\n",
        "feature_desc = [\n",
        "    'Number of goals scored by the team during the match.',\n",
        "    'Percentage of ball possession by the team during the match.',\n",
        "    'Number of attempts or shots taken by the team.',\n",
        "    'Number of shots that were on target.',\n",
        "    'Number of shots that went off target.',\n",
        "    'Number of shots that were blocked by the opponent.',\n",
        "    'Number of corner kicks taken by the team.',\n",
        "    'Number of times the team was caught offside.',\n",
        "    'Number of free kicks taken by the team.',\n",
        "    \"Number of saves made by the team's goalkeeper.\",\n",
        "    'Percentage of passes that successfully reached a teammate.',\n",
        "    'Total number of passes made by the team.',\n",
        "    \"Total distance covered by the team's players during the match, in kilometers.\",\n",
        "    'Number of fouls committed by the team.',\n",
        "    'Number of yellow cards received by the team.',\n",
        "    'Number of yellow-red cards received by the team.',\n",
        "    'Number of red cards received by the team.',\n",
        "    'Number of goals scored by the team during the penalty shootout.',\n",
        "    \"Number of goals that were conceded by the team's goalkeeper.\",\n",
        "]\n",
        "\n",
        "features_df = pd.DataFrame({\n",
        "    \"Feature name\": list(x.columns),\n",
        "    \"Feature description\": feature_desc\n",
        "})\n",
        "\n",
        "prompt_template = make_prompt(\n",
        "    task_description,\n",
        "    input_description,\n",
        "    class_descriptions,\n",
        ")"
      ]
    },
    {
      "cell_type": "code",
      "execution_count": 5,
      "metadata": {},
      "outputs": [],
      "source": [
        "#llm = OllamaWrapper(\"gemma3:4b\")\n",
        "llm = OllamaWrapper(\"llama3.1:8b\", temperature=0.01)"
      ]
    },
    {
      "cell_type": "code",
      "execution_count": 6,
      "metadata": {},
      "outputs": [],
      "source": [
        "masker = shap.maskers.Independent(x_test_preprocessed)\n",
        "explainer = shap.LinearExplainer(model, masker=masker)"
      ]
    },
    {
      "cell_type": "markdown",
      "metadata": {
        "id": "PmsE6j1QTIOr"
      },
      "source": [
        "Generate Stories for both pre-trained random forest and SVM"
      ]
    },
    {
      "cell_type": "code",
      "execution_count": null,
      "metadata": {
        "id": "cNvc28nhSlkx"
      },
      "outputs": [
        {
          "name": "stdout",
          "output_type": "stream",
          "text": [
            "1.0\n",
            "0.8556503292834292\n",
            "An AI model was used to predict whether a football team will have the \"Man of the Match\" winner in a FIFA Worldcup match, based on the team's statistics .\n",
            "The input features to the model include data about the match.\n",
            "The target variable represents one of the following classes:\n",
            "- class label 0 represents the class for the team that will not have a player who wins the 'Man of the Match'\n",
            "- class label 1 represents the class for the team that will have a player who wins the 'Man of the Match'\n",
            "\n",
            "The AI model predicted a certain instance of the dataset to belong to the class \n",
            "with label 1 with probability 0.86.\n",
            "\n",
            "The provided SHAP table was generated to explain this\n",
            "outcome. It includes every feature along with its value for that instance, and the\n",
            "SHAP value assigned to it.\n",
            "\n",
            "The goal of SHAP is to explain the prediction of an instance by\n",
            "computing the contribution of each feature to the prediction. The\n",
            "SHAP explanation method computes Shapley values from coalitional game\n",
            "theory. The feature values of a data instance act as players in a coalition.\n",
            "Shapley values tell us how to fairly distribute the “payout”(=the prediction)\n",
            "among the features. A player can be an individual feature value, e.g. for tabular\n",
            "data. The scores in the table are sorted from most positive to most negative.\n",
            "\n",
            "Can you come up with a plausible, fluent story as to why the model could have\n",
            "predicted this outcome, based on the most influential positive and most influential\n",
            "negative SHAP values? Focus on the features with the highest absolute\n",
            "SHAP values. Try to explain the most important feature values in this story, as\n",
            "well as potential interactions that fit the story. No need to enumerate individual\n",
            "features outside of the story. Conclude with a short summary of why this\n",
            "classification may have occurred. Limit your answer to 8 sentences.\n",
            "\n",
            "Table containing feature values and SHAP values:\n",
            "          Feature name  Feature value  Shap value\n",
            "           Goal Scored              2    1.369433\n",
            "       Pass Accuracy %             89    0.307003\n",
            "Distance Covered (Kms)             97    0.260371\n",
            "            Free Kicks             24    0.240641\n",
            "               Corners              5    0.234285\n",
            "               Blocked              2    0.220169\n",
            "          Goal against              1    0.204699\n",
            "       Fouls Committed              7    0.180553\n",
            "\n",
            "Additional clarification of the features:\n",
            "                                                                                  Feature description\n",
            "Feature name                                                                                         \n",
            "Goal Scored                                      Number of goals scored by the team during the match.\n",
            "Pass Accuracy %                            Percentage of passes that successfully reached a teammate.\n",
            "Distance Covered (Kms)  Total distance covered by the team's players during the match, in kilometers.\n",
            "Free Kicks                                                    Number of free kicks taken by the team.\n",
            "Corners                                                     Number of corner kicks taken by the team.\n",
            "Blocked                                            Number of shots that were blocked by the opponent.\n",
            "Goal against                             Number of goals that were conceded by the team's goalkeeper.\n",
            "Fouls Committed                                                Number of fouls committed by the team.\n",
            "    \n"
          ]
        }
      ],
      "source": [
        "story_generator = SHAPstory(\n",
        "    logreg_search.best_estimator_, \n",
        "    explainer, \n",
        "    llm, \n",
        "    prompt_template,\n",
        "    features_df, \n",
        "    max_story_features=8,\n",
        "    only_positive_shaps=True,\n",
        "    include_linear_model_coefficients=False)\n",
        "shap_df, predictions_df = story_generator.gen_variables(x_test)\n",
        "\n",
        "x_test_0 = x_test.iloc[0]\n",
        "prediction, score = predictions_df.iloc[0].values\n",
        "shap_values = shap_df.iloc[0].values\n",
        "prompt = story_generator.generate_prompt(x_test_0, prediction, score, shap_values)\n",
        "\n",
        "print(prompt)"
      ]
    },
    {
      "cell_type": "code",
      "execution_count": null,
      "metadata": {},
      "outputs": [
        {
          "name": "stdout",
          "output_type": "stream",
          "text": [
            "1.0\n",
            "0.8556503292834292\n"
          ]
        }
      ],
      "source": [
        "stories = story_generator.generate_stories(x_test.iloc[:1])\n",
        "print(stories[0])"
      ]
    }
  ],
  "metadata": {
    "colab": {
      "provenance": []
    },
    "kernelspec": {
      "display_name": "Python 3",
      "name": "python3"
    },
    "language_info": {
      "codemirror_mode": {
        "name": "ipython",
        "version": 3
      },
      "file_extension": ".py",
      "mimetype": "text/x-python",
      "name": "python",
      "nbconvert_exporter": "python",
      "pygments_lexer": "ipython3",
      "version": "3.13.7"
    }
  },
  "nbformat": 4,
  "nbformat_minor": 0
}
