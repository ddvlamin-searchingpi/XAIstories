{
  "cells": [
    {
      "cell_type": "markdown",
      "metadata": {
        "id": "2g1xRwjcSwZp"
      },
      "source": [
        "# Tell Me a Story! - SHAPStories Example\n",
        "\n",
        "This notebook shows an example of how to generate SHAPstories using Ollama models."
      ]
    },
    {
      "cell_type": "code",
      "execution_count": 1,
      "metadata": {
        "colab": {
          "base_uri": "https://localhost:8080/"
        },
        "id": "B7TGoHuPRz1o",
        "outputId": "0cd87a3a-9d0e-4757-c6f5-fca3533beb3c"
      },
      "outputs": [
        {
          "name": "stderr",
          "output_type": "stream",
          "text": [
            "/usr/local/lib/python3.13/site-packages/tqdm/auto.py:21: TqdmWarning: IProgress not found. Please update jupyter and ipywidgets. See https://ipywidgets.readthedocs.io/en/stable/user_install.html\n",
            "  from .autonotebook import tqdm as notebook_tqdm\n"
          ]
        }
      ],
      "source": [
        "import shap\n",
        "import pandas as pd\n",
        "import numpy as np\n",
        "\n",
        "from sklearn.ensemble import RandomForestClassifier\n",
        "from sklearn.svm import SVC\n",
        "from sklearn.linear_model import LogisticRegression\n",
        "from sklearn.model_selection import train_test_split\n",
        "from sklearn.metrics import accuracy_score\n",
        "\n",
        "from stories import SHAPstory\n",
        "from stories.llm_wrappers import OllamaWrapper"
      ]
    },
    {
      "cell_type": "markdown",
      "metadata": {
        "id": "B3cIJOTOR-t_"
      },
      "source": [
        "## FIFA Example"
      ]
    },
    {
      "cell_type": "markdown",
      "metadata": {},
      "source": [
        "### Load data"
      ]
    },
    {
      "cell_type": "code",
      "execution_count": 2,
      "metadata": {},
      "outputs": [],
      "source": [
        "# Load Data and Split\n",
        "data = pd.read_csv(\"../data/FIFA_2018_Statistics.csv\")\n",
        "data = data.merge(\n",
        "    data[[\"Date\", \"Team\", \"Goal Scored\"]],\n",
        "    left_on=[\"Date\", \"Opponent\"],\n",
        "    right_on=[\"Date\", \"Team\"],\n",
        "    suffixes=[\"\", \"_y\"]).drop(columns=[\"Team_y\"]).rename(columns={\"Goal Scored_y\": \"Goal against\"})\n",
        "\n",
        "feature_names = [i for i in data.columns if data[i].dtype in [np.int64, np.int64]]\n",
        "x = data[feature_names]\n",
        "\n",
        "y = (data[\"Man of the Match\"] == \"Yes\")\n",
        "\n",
        "x_train, x_test, y_train, y_test = train_test_split(x, y, test_size=0.2, random_state=42)"
      ]
    },
    {
      "cell_type": "markdown",
      "metadata": {},
      "source": [
        "### Train and Compare Accuracy of Various Models"
      ]
    },
    {
      "cell_type": "code",
      "execution_count": 3,
      "metadata": {},
      "outputs": [
        {
          "name": "stdout",
          "output_type": "stream",
          "text": [
            "Accuracy: 0.7307692307692307\n"
          ]
        }
      ],
      "source": [
        "model = LogisticRegression(max_iter=5000)\n",
        "model.fit(x_train, y_train)\n",
        "predictions = model.predict(x_test)\n",
        "accuracy = accuracy_score(y_test, predictions)\n",
        "print(\"Accuracy:\", accuracy)"
      ]
    },
    {
      "cell_type": "markdown",
      "metadata": {
        "id": "_wQLPn65Sapz"
      },
      "source": [
        "Manually Created Descriptions"
      ]
    },
    {
      "cell_type": "code",
      "execution_count": 4,
      "metadata": {
        "id": "Wmhge5RHSY6k"
      },
      "outputs": [],
      "source": [
        "task_description = \"\"\"predict whether a football team will have the \"Man of the Match\" winner in a FIFA Worldcup match, based on the team's statistics \"\"\"\n",
        "\n",
        "input_description = \"the match\"\n",
        "\n",
        "class_descriptions = {\n",
        "    0: \"class for the team that will not have a player who wins the 'Man of the Match'\",\n",
        "    1: \"class for the team that will have a player who wins the 'Man of the Match'\"\n",
        "}\n",
        "\n",
        "feature_desc = [\n",
        "    'Number of goals scored by the team during the match.',\n",
        "    'Percentage of ball possession by the team during the match.',\n",
        "    'Number of attempts or shots taken by the team.',\n",
        "    'Number of shots that were on target.',\n",
        "    'Number of shots that went off target.',\n",
        "    'Number of shots that were blocked by the opponent.',\n",
        "    'Number of corner kicks taken by the team.',\n",
        "    'Number of times the team was caught offside.',\n",
        "    'Number of free kicks taken by the team.',\n",
        "    \"Number of saves made by the team's goalkeeper.\",\n",
        "    'Percentage of passes that successfully reached a teammate.',\n",
        "    'Total number of passes made by the team.',\n",
        "    \"Total distance covered by the team's players during the match, in kilometers.\",\n",
        "    'Number of fouls committed by the team.',\n",
        "    'Number of yellow cards received by the team.',\n",
        "    'Number of yellow-red cards received by the team.',\n",
        "    'Number of red cards received by the team.',\n",
        "    'Number of goals scored by the team during the penalty shootout.',\n",
        "    \"Number of goals that were conceded by the team's goalkeeper.\",\n",
        "]\n",
        "\n",
        "features_df = pd.DataFrame({\n",
        "    \"Feature name\": list(x.columns),\n",
        "    \"Feature description\": feature_desc\n",
        "})"
      ]
    },
    {
      "cell_type": "code",
      "execution_count": 5,
      "metadata": {},
      "outputs": [],
      "source": [
        "llm = OllamaWrapper(\"gemma3:4b\")"
      ]
    },
    {
      "cell_type": "code",
      "execution_count": 6,
      "metadata": {},
      "outputs": [],
      "source": [
        "masker = shap.maskers.Independent(x_test)\n",
        "explainer = shap.LinearExplainer(model, masker=masker)\n",
        "shap_values = explainer.shap_values(x_test)"
      ]
    },
    {
      "cell_type": "markdown",
      "metadata": {
        "id": "PmsE6j1QTIOr"
      },
      "source": [
        "Generate Stories for both pre-trained random forest and SVM"
      ]
    },
    {
      "cell_type": "code",
      "execution_count": 7,
      "metadata": {
        "id": "cNvc28nhSlkx"
      },
      "outputs": [
        {
          "name": "stdout",
          "output_type": "stream",
          "text": [
            "\n",
            "An AI model was used to predict whether a football team will have the \"Man of the Match\" winner in a FIFA Worldcup match, based on the team's statistics . \n",
            "The input features to the model include data about the match. \n",
            "The target variable represents one of the following classes:\n",
            "- class label 0 represents the class for the team that will not have a player who wins the 'Man of the Match'\n",
            "- class label 1 represents the class for the team that will have a player who wins the 'Man of the Match'\n",
            "\n",
            "The AI model predicted a certain instance of the dataset to belong to the class with label 1 \n",
            "(i.e. class for the team that will have a player who wins the 'Man of the Match') with probability 87.30%. \n",
            "\n",
            "The provided SHAP table was generated to explain this\n",
            "outcome. It includes every feature along with its value for that instance, and the\n",
            "SHAP value assigned to it. \n",
            "\n",
            "The goal of SHAP is to explain the prediction of an instance by \n",
            "computing the contribution of each feature to the prediction. The\n",
            "SHAP explanation method computes Shapley values from coalitional game\n",
            "theory. The feature values of a data instance act as players in a coalition.\n",
            "Shapley values tell us how to fairly distribute the “payout” (= the prediction)\n",
            "among the features. A player can be an individual feature value, e.g. for tabular\n",
            "data. The scores in the table are sorted from most positive to most negative.\n",
            "\n",
            "Can you come up with a plausible, fluent story as to why the model could have\n",
            "predicted this outcome, based on the most influential positive and most influential\n",
            "negative SHAP values? Focus on the features with the highest absolute\n",
            "SHAP values. Try to explain the most important feature values in this story, as\n",
            "well as potential interactions that fit the story. No need to enumerate individual\n",
            "features outside of the story. Conclude with a short summary of why this\n",
            "classification may have occurred. Limit your answer to 8 sentences.\n",
            "\n",
            "Table containing feature values and SHAP values and model coefficients:\n",
            "              Feature name  Feature value  Shap value  Model coefficient\n",
            "0              Goal Scored              2    1.133544           1.842009\n",
            "8               Free Kicks             24    0.466015           0.046070\n",
            "10         Pass Accuracy %             89    0.343000           0.061082\n",
            "13         Fouls Committed              7    0.215548          -0.032966\n",
            "12  Distance Covered (Kms)             97    0.213030          -0.022155\n",
            "6                  Corners              5    0.210078           0.496547\n",
            "18            Goal against              1    0.170371          -2.214828\n",
            "5                  Blocked              2    0.110404          -0.071762\n",
            "2                 Attempts             13    0.098328          -0.159784\n",
            "4               Off-Target              6    0.075767           0.218884\n",
            "11                  Passes            485    0.047207           0.001223\n",
            "3                On-Target              5    0.026656           0.046204\n",
            "15            Yellow & Red              0    0.000043          -0.001124\n",
            "16                     Red              0   -0.000000          -0.220357\n",
            "9                    Saves              5   -0.000960          -0.000640\n",
            "17            Goals in PSO              0   -0.049732           0.431010\n",
            "14             Yellow Card              0   -0.163415           0.101162\n",
            "1        Ball Possession %             59   -0.462942          -0.048929\n",
            "7                 Offsides              0   -0.765700           0.642200\n",
            "\n",
            "Additional clarification of the features:\n",
            "              Feature name                                Feature description\n",
            "0              Goal Scored  Number of goals scored by the team during the ...\n",
            "1        Ball Possession %  Percentage of ball possession by the team duri...\n",
            "2                 Attempts     Number of attempts or shots taken by the team.\n",
            "3                On-Target               Number of shots that were on target.\n",
            "4               Off-Target              Number of shots that went off target.\n",
            "5                  Blocked  Number of shots that were blocked by the oppon...\n",
            "6                  Corners          Number of corner kicks taken by the team.\n",
            "7                 Offsides       Number of times the team was caught offside.\n",
            "8               Free Kicks            Number of free kicks taken by the team.\n",
            "9                    Saves     Number of saves made by the team's goalkeeper.\n",
            "10         Pass Accuracy %  Percentage of passes that successfully reached...\n",
            "11                  Passes           Total number of passes made by the team.\n",
            "12  Distance Covered (Kms)  Total distance covered by the team's players d...\n",
            "13         Fouls Committed             Number of fouls committed by the team.\n",
            "14             Yellow Card       Number of yellow cards received by the team.\n",
            "15            Yellow & Red   Number of yellow-red cards received by the team.\n",
            "16                     Red          Number of red cards received by the team.\n",
            "17            Goals in PSO  Number of goals scored by the team during the ...\n",
            "18            Goal against  Number of goals that were conceded by the team...\n",
            "    \n"
          ]
        }
      ],
      "source": [
        "story_generator = SHAPstory(model, explainer, llm, features_df, task_description, input_description, class_descriptions)\n",
        "shap_df, predictions_df = story_generator.gen_variables(x_test)\n",
        "prompt = story_generator.generate_prompt(x_test, predictions_df, shap_df, 0)\n",
        "print(prompt)"
      ]
    },
    {
      "cell_type": "code",
      "execution_count": null,
      "metadata": {},
      "outputs": [],
      "source": [
        "stories = story_generator.generate_stories(x_test.iloc[:2])\n",
        "print(stories[0])"
      ]
    },
    {
      "cell_type": "code",
      "execution_count": null,
      "metadata": {},
      "outputs": [
        {
          "name": "stdout",
          "output_type": "stream",
          "text": [
            "Model Coefficients:\n",
            "Goal Scored: 1.8420094657828152\n",
            "Ball Possession %: -0.04892884433415059\n",
            "Attempts: -0.15978373044009475\n",
            "On-Target: 0.04620357842843351\n",
            "Off-Target: 0.2188836875312209\n",
            "Blocked: -0.07176236929831954\n",
            "Corners: 0.49654726326880705\n",
            "Offsides: 0.6422003412718447\n",
            "Free Kicks: 0.046069875458706784\n",
            "Saves: -0.0006398866946944256\n",
            "Pass Accuracy %: 0.06108223641166268\n",
            "Passes: 0.0012225035667891282\n",
            "Distance Covered (Kms): -0.022155142664064934\n",
            "Fouls Committed: -0.032966165362065196\n",
            "Yellow Card: 0.10116191283059259\n",
            "Yellow & Red: -0.0011237542167242686\n",
            "Red: -0.22035687006377555\n",
            "Goals in PSO: 0.4310101744827301\n",
            "Goal against: -2.21482805781323\n"
          ]
        }
      ],
      "source": [
        "#print the model coefficients together with the feature names\n",
        "print(\"Model Coefficients:\")\n",
        "for feature, coeff in zip(x.columns, model.coef_[0]):\n",
        "    print(f\"{feature}: {coeff}\")"
      ]
    },
    {
      "cell_type": "code",
      "execution_count": null,
      "metadata": {},
      "outputs": [
        {
          "data": {
            "text/plain": [
              "np.float64(0.0983284495015967)"
            ]
          },
          "execution_count": 14,
          "metadata": {},
          "output_type": "execute_result"
        }
      ],
      "source": [
        "-0.15978373044009475 * (x_test.iloc[0][\"Attempts\"] - x_test[\"Attempts\"].mean())"
      ]
    }
  ],
  "metadata": {
    "colab": {
      "provenance": []
    },
    "kernelspec": {
      "display_name": "Python 3",
      "name": "python3"
    },
    "language_info": {
      "codemirror_mode": {
        "name": "ipython",
        "version": 3
      },
      "file_extension": ".py",
      "mimetype": "text/x-python",
      "name": "python",
      "nbconvert_exporter": "python",
      "pygments_lexer": "ipython3",
      "version": "3.13.7"
    }
  },
  "nbformat": 4,
  "nbformat_minor": 0
}
