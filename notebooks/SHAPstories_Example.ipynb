{
  "cells": [
    {
      "cell_type": "markdown",
      "metadata": {
        "id": "2g1xRwjcSwZp"
      },
      "source": [
        "# Tell Me a Story! - SHAPStories Example\n",
        "\n",
        "This notebook shows an example of how to generate SHAPstories using Ollama models."
      ]
    },
    {
      "cell_type": "code",
      "execution_count": null,
      "metadata": {
        "colab": {
          "base_uri": "https://localhost:8080/"
        },
        "id": "B7TGoHuPRz1o",
        "outputId": "0cd87a3a-9d0e-4757-c6f5-fca3533beb3c"
      },
      "outputs": [
        {
          "name": "stderr",
          "output_type": "stream",
          "text": [
            "/usr/local/lib/python3.13/site-packages/tqdm/auto.py:21: TqdmWarning: IProgress not found. Please update jupyter and ipywidgets. See https://ipywidgets.readthedocs.io/en/stable/user_install.html\n",
            "  from .autonotebook import tqdm as notebook_tqdm\n"
          ]
        }
      ],
      "source": [
        "import shap\n",
        "import pandas as pd\n",
        "import numpy as np\n",
        "\n",
        "from sklearn.ensemble import RandomForestClassifier\n",
        "from sklearn.svm import SVC\n",
        "from sklearn.linear_model import LogisticRegression\n",
        "from sklearn.model_selection import train_test_split\n",
        "from sklearn.metrics import accuracy_score\n",
        "\n",
        "from stories import SHAPstory\n",
        "from stories.llm_wrappers import OllamaWrapper"
      ]
    },
    {
      "cell_type": "markdown",
      "metadata": {
        "id": "B3cIJOTOR-t_"
      },
      "source": [
        "## FIFA Example"
      ]
    },
    {
      "cell_type": "markdown",
      "metadata": {},
      "source": [
        "### Load data"
      ]
    },
    {
      "cell_type": "code",
      "execution_count": 2,
      "metadata": {},
      "outputs": [],
      "source": [
        "\n",
        "\n",
        "# Load Data and Split\n",
        "data = pd.read_csv(\"../data/FIFA_2018_Statistics.csv\")\n",
        "\n",
        "feature_names = [i for i in data.columns if data[i].dtype in [np.int64, np.int64]]\n",
        "x = data[feature_names]\n",
        "\n",
        "y = (data[\"Man of the Match\"] == \"Yes\")\n",
        "\n",
        "x_train, x_test, y_train, y_test = train_test_split(x, y, test_size=0.2, random_state=42)"
      ]
    },
    {
      "cell_type": "code",
      "execution_count": 3,
      "metadata": {},
      "outputs": [
        {
          "data": {
            "text/plain": [
              "Index(['Goal Scored', 'Ball Possession %', 'Attempts', 'On-Target',\n",
              "       'Off-Target', 'Blocked', 'Corners', 'Offsides', 'Free Kicks', 'Saves',\n",
              "       'Pass Accuracy %', 'Passes', 'Distance Covered (Kms)',\n",
              "       'Fouls Committed', 'Yellow Card', 'Yellow & Red', 'Red',\n",
              "       'Goals in PSO'],\n",
              "      dtype='object')"
            ]
          },
          "execution_count": 3,
          "metadata": {},
          "output_type": "execute_result"
        }
      ],
      "source": [
        "x.columns"
      ]
    },
    {
      "cell_type": "markdown",
      "metadata": {},
      "source": [
        "### Train and Compare Accuracy of Various Models"
      ]
    },
    {
      "cell_type": "code",
      "execution_count": 4,
      "metadata": {},
      "outputs": [
        {
          "name": "stdout",
          "output_type": "stream",
          "text": [
            "Accuracy: 0.6923076923076923\n"
          ]
        }
      ],
      "source": [
        "model = LogisticRegression(max_iter=5000)\n",
        "model.fit(x_train, y_train)\n",
        "predictions = model.predict(x_test)\n",
        "accuracy = accuracy_score(y_test, predictions)\n",
        "print(\"Accuracy:\", accuracy)"
      ]
    },
    {
      "cell_type": "markdown",
      "metadata": {
        "id": "_wQLPn65Sapz"
      },
      "source": [
        "Manually Created Descriptions"
      ]
    },
    {
      "cell_type": "code",
      "execution_count": null,
      "metadata": {
        "id": "Wmhge5RHSY6k"
      },
      "outputs": [],
      "source": [
        "task_description = \"\"\"predict whether a football team will have the \"Man of the Match\" winner in a FIFA Worldcup match, based on the team's statistics \"\"\"\n",
        "\n",
        "input_description = \"the match\"\n",
        "\n",
        "class_descriptions = {\n",
        "    0: \"class for the team that will not have a player who wins the 'Man of the Match'\",\n",
        "    1: \"class for the team that will have a player who wins the 'Man of the Match'\"\n",
        "}\n",
        "\n",
        "feature_desc = [\n",
        "    'Number of goals scored by the team during the match.',\n",
        "    'Percentage of ball possession by the team during the match.',\n",
        "    'Number of attempts or shots taken by the team.',\n",
        "    'Number of shots that were on target.',\n",
        "    'Number of shots that went off target.',\n",
        "    'Number of shots that were blocked by the opponent.',\n",
        "    'Number of corner kicks taken by the team.',\n",
        "    'Number of times the team was caught offside.',\n",
        "    'Number of free kicks taken by the team.',\n",
        "    \"Number of saves made by the team's goalkeeper.\",\n",
        "    'Percentage of passes that successfully reached a teammate.',\n",
        "    'Total number of passes made by the team.',\n",
        "    \"Total distance covered by the team's players during the match, in kilometers.\",\n",
        "    'Number of fouls committed by the team.',\n",
        "    'Number of yellow cards received by the team.',\n",
        "    'Number of yellow-red cards received by the team.',\n",
        "    'Number of red cards received by the team.',\n",
        "    'Number of goals scored by the team during the penalty shootout.'\n",
        "]\n",
        "\n",
        "features_df = pd.DataFrame({\n",
        "    \"Feature name\": list(x.columns),\n",
        "    \"Feature description\": feature_desc\n",
        "})"
      ]
    },
    {
      "cell_type": "code",
      "execution_count": 7,
      "metadata": {},
      "outputs": [],
      "source": [
        "llm = OllamaWrapper(\"gemma3:4b\")"
      ]
    },
    {
      "cell_type": "code",
      "execution_count": 8,
      "metadata": {},
      "outputs": [],
      "source": [
        "masker = shap.maskers.Independent(x_test)\n",
        "explainer = shap.LinearExplainer(model, masker=masker)\n",
        "shap_values = explainer.shap_values(x_test)"
      ]
    },
    {
      "cell_type": "markdown",
      "metadata": {
        "id": "PmsE6j1QTIOr"
      },
      "source": [
        "Generate Stories for both pre-trained random forest and SVM"
      ]
    },
    {
      "cell_type": "code",
      "execution_count": 11,
      "metadata": {
        "id": "cNvc28nhSlkx"
      },
      "outputs": [
        {
          "name": "stdout",
          "output_type": "stream",
          "text": [
            "\n",
            "An AI model was used to predict whether a football team will have the \"Man of the Match\" winner in a FIFA Worldcup match, based on the team's statistics . \n",
            "The input features to the model include data about the match. \n",
            "The target variable represents one of the following classes:\n",
            "- class label 0 represents the class for the team that will not have a player who wins the 'Man of the Match'\n",
            "- class label 1 represents the class for the team that will have a player who wins the 'Man of the Match'\n",
            "\n",
            "The AI model predicted a certain instance of the dataset to belong to the class with label 1 \n",
            "(i.e. class for the team that will have a player who wins the 'Man of the Match') with probability 92.58%. \n",
            "\n",
            "The provided SHAP table was generated to explain this\n",
            "outcome. It includes every feature along with its value for that instance, and the\n",
            "SHAP value assigned to it. \n",
            "\n",
            "The goal of SHAP is to explain the prediction of an instance by \n",
            "computing the contribution of each feature to the prediction. The\n",
            "SHAP explanation method computes Shapley values from coalitional game\n",
            "theory. The feature values of a data instance act as players in a coalition.\n",
            "Shapley values tell us how to fairly distribute the “payout” (= the prediction)\n",
            "among the features. A player can be an individual feature value, e.g. for tabular\n",
            "data. The scores in the table are sorted from most positive to most negative.\n",
            "\n",
            "Can you come up with a plausible, fluent story as to why the model could have\n",
            "predicted this outcome, based on the most influential positive and most influential\n",
            "negative SHAP values? Focus on the features with the highest absolute\n",
            "SHAP values. Try to explain the most important feature values in this story, as\n",
            "well as potential interactions that fit the story. No need to enumerate individual\n",
            "features outside of the story. Conclude with a short summary of why this\n",
            "classification may have occurred. Limit your answer to 8 sentences.\n",
            "\n",
            "Table containing feature values and SHAP values:\n",
            "              Feature name  Feature value  Shap value\n",
            "0              Goal Scored              2    0.746157\n",
            "14             Yellow Card              0    0.591180\n",
            "8               Free Kicks             24    0.424499\n",
            "1        Ball Possession %             59    0.319019\n",
            "10         Pass Accuracy %             89    0.237034\n",
            "2                 Attempts             13    0.188176\n",
            "3                On-Target              5    0.150303\n",
            "6                  Corners              5    0.139288\n",
            "4               Off-Target              6    0.131275\n",
            "13         Fouls Committed              7    0.107738\n",
            "12  Distance Covered (Kms)             97    0.106689\n",
            "15            Yellow & Red              0    0.005169\n",
            "16                     Red              0   -0.000000\n",
            "9                    Saves              5   -0.000262\n",
            "17            Goals in PSO              0   -0.068307\n",
            "11                  Passes            485   -0.159566\n",
            "7                 Offsides              0   -0.175228\n",
            "5                  Blocked              2   -0.267693\n",
            "\n",
            "Additional clarification of the features:\n",
            "              Feature name                                Feature description\n",
            "0              Goal Scored  Number of goals scored by the team during the ...\n",
            "1        Ball Possession %  Percentage of ball possession by the team duri...\n",
            "2                 Attempts     Number of attempts or shots taken by the team.\n",
            "3                On-Target               Number of shots that were on target.\n",
            "4               Off-Target              Number of shots that went off target.\n",
            "5                  Blocked  Number of shots that were blocked by the oppon...\n",
            "6                  Corners          Number of corner kicks taken by the team.\n",
            "7                 Offsides       Number of times the team was caught offside.\n",
            "8               Free Kicks            Number of free kicks taken by the team.\n",
            "9                    Saves     Number of saves made by the team's goalkeeper.\n",
            "10         Pass Accuracy %  Percentage of passes that successfully reached...\n",
            "11                  Passes           Total number of passes made by the team.\n",
            "12  Distance Covered (Kms)  Total distance covered by the team's players d...\n",
            "13         Fouls Committed             Number of fouls committed by the team.\n",
            "14             Yellow Card       Number of yellow cards received by the team.\n",
            "15            Yellow & Red   Number of yellow-red cards received by the team.\n",
            "16                     Red          Number of red cards received by the team.\n",
            "17            Goals in PSO  Number of goals scored by the team during the ...\n",
            "    \n"
          ]
        }
      ],
      "source": [
        "story_generator = SHAPstory(llm, explainer, features_df, task_description, input_description, class_descriptions)\n",
        "shap_df, predictions_df = story_generator.gen_variables(model, x_test)\n",
        "prompt = story_generator.generate_prompt(x_test, predictions_df, shap_df, 0)\n",
        "print(prompt)"
      ]
    },
    {
      "cell_type": "code",
      "execution_count": 12,
      "metadata": {},
      "outputs": [
        {
          "name": "stdout",
          "output_type": "stream",
          "text": [
            "Based on the SHAP values, the model predicted a \"Man of the Match\" winner for this team due to a potent combination of attacking prowess and a dominant midfield performance. The highest positive SHAP value, associated with ‘Goal Scored’ (2), suggests the team’s offensive output was a key driver of the prediction, indicating they were likely to have a player recognized for scoring goals.  Furthermore, a high SHAP value for ‘Ball Possession %’ (59%) demonstrates a sustained control of the game, underlining the team's ability to dictate play. The team also had a strong midfield performance, indicated by ‘Pass Accuracy %’ (89%), showing precise passing that created scoring chances. Importantly, the high ‘Attempts’ (13) suggests the team aggressively created chances. However, the negative SHAP value associated with ‘Passes’ (485) may imply that while the team completed many passes, they weren’t particularly effective at moving the ball into dangerous areas, a potentially contributing factor. Finally, the high “Goal Scored” value coupled with a strong “Ball Possession %” likely resulted in a player achieving a high level of success, leading to the prediction. In essence, this classification likely occurred because of a team that succeeded in scoring multiple goals while maintaining strong possession and accuracy.\n"
          ]
        }
      ],
      "source": [
        "stories = story_generator.generate_stories(model, x_test.iloc[:2])\n",
        "print(stories[0])"
      ]
    }
  ],
  "metadata": {
    "colab": {
      "provenance": []
    },
    "kernelspec": {
      "display_name": "Python 3",
      "name": "python3"
    },
    "language_info": {
      "codemirror_mode": {
        "name": "ipython",
        "version": 3
      },
      "file_extension": ".py",
      "mimetype": "text/x-python",
      "name": "python",
      "nbconvert_exporter": "python",
      "pygments_lexer": "ipython3",
      "version": "3.13.7"
    }
  },
  "nbformat": 4,
  "nbformat_minor": 0
}
