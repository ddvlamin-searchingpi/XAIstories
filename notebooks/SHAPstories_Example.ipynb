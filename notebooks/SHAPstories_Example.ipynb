{
  "cells": [
    {
      "cell_type": "markdown",
      "metadata": {
        "id": "2g1xRwjcSwZp"
      },
      "source": [
        "# Tell Me a Story! - SHAPStories Example\n",
        "\n",
        "This notebook shows an example of how to generate SHAPstories using Ollama models."
      ]
    },
    {
      "cell_type": "code",
      "execution_count": 17,
      "metadata": {
        "colab": {
          "base_uri": "https://localhost:8080/"
        },
        "id": "B7TGoHuPRz1o",
        "outputId": "0cd87a3a-9d0e-4757-c6f5-fca3533beb3c"
      },
      "outputs": [],
      "source": [
        "import shap\n",
        "import pandas as pd\n",
        "import numpy as np\n",
        "\n",
        "from sklearn.pipeline import Pipeline\n",
        "from sklearn.preprocessing import StandardScaler\n",
        "from sklearn.model_selection import GridSearchCV, KFold\n",
        "from sklearn.ensemble import RandomForestClassifier\n",
        "from sklearn.svm import SVC\n",
        "from sklearn.linear_model import LogisticRegression\n",
        "from sklearn.model_selection import train_test_split\n",
        "from sklearn.metrics import accuracy_score\n",
        "\n",
        "from stories import SHAPstory, unwrap\n",
        "from stories.llm_wrappers import OllamaWrapper"
      ]
    },
    {
      "cell_type": "markdown",
      "metadata": {
        "id": "B3cIJOTOR-t_"
      },
      "source": [
        "## FIFA Example"
      ]
    },
    {
      "cell_type": "markdown",
      "metadata": {},
      "source": [
        "### Load data"
      ]
    },
    {
      "cell_type": "code",
      "execution_count": 18,
      "metadata": {},
      "outputs": [],
      "source": [
        "# Load Data and Split\n",
        "data = pd.read_csv(\"../data/FIFA_2018_Statistics.csv\")\n",
        "data = data.merge(\n",
        "    data[[\"Date\", \"Team\", \"Goal Scored\"]],\n",
        "    left_on=[\"Date\", \"Opponent\"],\n",
        "    right_on=[\"Date\", \"Team\"],\n",
        "    suffixes=[\"\", \"_y\"]).drop(columns=[\"Team_y\"]).rename(columns={\"Goal Scored_y\": \"Goal against\"})\n",
        "\n",
        "feature_names = [i for i in data.columns if data[i].dtype in [np.int64, np.int64]]\n",
        "x = data[feature_names]\n",
        "\n",
        "y = (data[\"Man of the Match\"] == \"Yes\")\n",
        "\n",
        "x_train, x_test, y_train, y_test = train_test_split(x, y, test_size=0.2, random_state=42)"
      ]
    },
    {
      "cell_type": "markdown",
      "metadata": {},
      "source": [
        "### Train and Compare Accuracy of Various Models"
      ]
    },
    {
      "cell_type": "code",
      "execution_count": 31,
      "metadata": {},
      "outputs": [
        {
          "name": "stdout",
          "output_type": "stream",
          "text": [
            "Accuracy: 0.7307692307692307\n"
          ]
        }
      ],
      "source": [
        "logreg_pipe = Pipeline([\n",
        "    (\"scaler\", StandardScaler()),\n",
        "    (\"classifier\", LogisticRegression(max_iter=5000, solver=\"lbfgs\"))\n",
        "])\n",
        "\n",
        "param_grid = {\n",
        "    \"classifier__C\": np.logspace(-3, 3, 13)\n",
        "}\n",
        "\n",
        "cv = KFold(n_splits=5, shuffle=True, random_state=42)\n",
        "\n",
        "logreg_search = GridSearchCV(\n",
        "    estimator=logreg_pipe,\n",
        "    param_grid=param_grid,\n",
        "    cv=cv,\n",
        "    scoring=\"roc_auc\",   # swap for the metric you care about\n",
        "    n_jobs=-1,\n",
        "    refit=True\n",
        ")\n",
        "\n",
        "logreg_search.fit(x_train, y_train)\n",
        "best_logreg = logreg_search.best_estimator_\n",
        "\n",
        "predictions = logreg_search.predict(x_test)\n",
        "accuracy = accuracy_score(y_test, predictions)\n",
        "print(\"Accuracy:\", accuracy)\n",
        "\n",
        "model = unwrap(logreg_search)\n",
        "preprocessor = logreg_search.best_estimator_[:-1]\n",
        "x_test_preprocessed = preprocessor.transform(x_test)\n",
        "x_test_preprocessed = pd.DataFrame(x_test_preprocessed, columns=x_test.columns)"
      ]
    },
    {
      "cell_type": "markdown",
      "metadata": {
        "id": "_wQLPn65Sapz"
      },
      "source": [
        "Manually Created Descriptions"
      ]
    },
    {
      "cell_type": "code",
      "execution_count": 20,
      "metadata": {
        "id": "Wmhge5RHSY6k"
      },
      "outputs": [],
      "source": [
        "task_description = \"\"\"predict whether a football team will have the \"Man of the Match\" winner in a FIFA Worldcup match, based on the team's statistics \"\"\"\n",
        "\n",
        "input_description = \"the match\"\n",
        "\n",
        "class_descriptions = {\n",
        "    0: \"class for the team that will not have a player who wins the 'Man of the Match'\",\n",
        "    1: \"class for the team that will have a player who wins the 'Man of the Match'\"\n",
        "}\n",
        "\n",
        "feature_desc = [\n",
        "    'Number of goals scored by the team during the match.',\n",
        "    'Percentage of ball possession by the team during the match.',\n",
        "    'Number of attempts or shots taken by the team.',\n",
        "    'Number of shots that were on target.',\n",
        "    'Number of shots that went off target.',\n",
        "    'Number of shots that were blocked by the opponent.',\n",
        "    'Number of corner kicks taken by the team.',\n",
        "    'Number of times the team was caught offside.',\n",
        "    'Number of free kicks taken by the team.',\n",
        "    \"Number of saves made by the team's goalkeeper.\",\n",
        "    'Percentage of passes that successfully reached a teammate.',\n",
        "    'Total number of passes made by the team.',\n",
        "    \"Total distance covered by the team's players during the match, in kilometers.\",\n",
        "    'Number of fouls committed by the team.',\n",
        "    'Number of yellow cards received by the team.',\n",
        "    'Number of yellow-red cards received by the team.',\n",
        "    'Number of red cards received by the team.',\n",
        "    'Number of goals scored by the team during the penalty shootout.',\n",
        "    \"Number of goals that were conceded by the team's goalkeeper.\",\n",
        "]\n",
        "\n",
        "features_df = pd.DataFrame({\n",
        "    \"Feature name\": list(x.columns),\n",
        "    \"Feature description\": feature_desc\n",
        "})"
      ]
    },
    {
      "cell_type": "code",
      "execution_count": 21,
      "metadata": {},
      "outputs": [],
      "source": [
        "#llm = OllamaWrapper(\"gemma3:4b\")\n",
        "llm = OllamaWrapper(\"llama3.1:8b\", temperature=0.01)"
      ]
    },
    {
      "cell_type": "code",
      "execution_count": null,
      "metadata": {},
      "outputs": [
        {
          "name": "stdout",
          "output_type": "stream",
          "text": [
            "[ 1.36943342 -0.35041932  0.04761816 -0.05062415  0.04482779  0.22016867\n",
            "  0.23428525 -1.00833151  0.24064103 -0.01579097  0.307003    0.02927064\n",
            "  0.2603713   0.18055327 -0.2190477   0.0126809  -0.         -0.06280948\n",
            "  0.20469938]\n"
          ]
        }
      ],
      "source": [
        "masker = shap.maskers.Independent(x_test_preprocessed)\n",
        "explainer = shap.LinearExplainer(model, masker=masker)"
      ]
    },
    {
      "cell_type": "markdown",
      "metadata": {
        "id": "PmsE6j1QTIOr"
      },
      "source": [
        "Generate Stories for both pre-trained random forest and SVM"
      ]
    },
    {
      "cell_type": "code",
      "execution_count": 24,
      "metadata": {
        "id": "cNvc28nhSlkx"
      },
      "outputs": [
        {
          "name": "stdout",
          "output_type": "stream",
          "text": [
            "\n",
            "An AI model was used to predict whether a football team will have the \"Man of the Match\" winner in a FIFA Worldcup match, based on the team's statistics . \n",
            "The input features to the model include data about the match. \n",
            "The target variable represents one of the following classes:\n",
            "- class label 0 represents the class for the team that will not have a player who wins the 'Man of the Match'\n",
            "- class label 1 represents the class for the team that will have a player who wins the 'Man of the Match'\n",
            "\n",
            "The AI model predicted a certain instance of the dataset to belong to the class with label 1 \n",
            "(i.e. class for the team that will have a player who wins the 'Man of the Match') with probability 85.57%. \n",
            "\n",
            "The provided SHAP table was generated to explain this\n",
            "outcome. It includes every feature along with its value for that instance, and the\n",
            "SHAP value assigned to it. \n",
            "\n",
            "The goal of SHAP is to explain the prediction of an instance by \n",
            "computing the contribution of each feature to the prediction. The\n",
            "SHAP explanation method computes Shapley values from coalitional game\n",
            "theory. The feature values of a data instance act as players in a coalition.\n",
            "Shapley values tell us how to fairly distribute the “payout” (= the prediction)\n",
            "among the features. A player can be an individual feature value, e.g. for tabular\n",
            "data. The scores in the table are sorted from most positive to most negative.\n",
            "\n",
            "Can you come up with a plausible, fluent story as to why the model could have\n",
            "predicted this outcome, based on the most influential positive and most influential\n",
            "negative SHAP values? Focus on the features with the highest absolute\n",
            "SHAP values. Try to explain the most important feature values in this story, as\n",
            "well as potential interactions that fit the story. No need to enumerate individual\n",
            "features outside of the story. Conclude with a short summary of why this\n",
            "classification may have occurred. Limit your answer to 8 sentences.\n",
            "\n",
            "Table containing feature values and SHAP values and model coefficients:\n",
            "          Feature name  Feature value  Shap value  Model coefficient\n",
            "           Goal Scored              2    1.369433           2.603175\n",
            "              Offsides              0   -1.008332           0.969639\n",
            "     Ball Possession %             59   -0.350419          -0.366783\n",
            "       Pass Accuracy %             89    0.307003           0.305696\n",
            "Distance Covered (Kms)             97    0.260371          -0.323417\n",
            "            Free Kicks             24    0.240641           0.112049\n",
            "               Corners              5    0.234285           1.307775\n",
            "               Blocked              2    0.220169          -0.333510\n",
            "           Yellow Card              0   -0.219048           0.168102\n",
            "          Goal against              1    0.204699          -3.227997\n",
            "       Fouls Committed              7    0.180553          -0.121272\n",
            "          Goals in PSO              0   -0.062809           0.463069\n",
            "             On-Target              5   -0.050624          -0.189410\n",
            "              Attempts             13    0.047618          -0.394014\n",
            "            Off-Target              6    0.044828           0.320008\n",
            "                Passes            485    0.029271           0.114334\n",
            "                 Saves              5   -0.015791          -0.020304\n",
            "          Yellow & Red              0    0.012681          -0.032485\n",
            "                   Red              0   -0.000000          -0.389239\n",
            "\n",
            "Additional clarification of the features:\n",
            "          Feature name                                                           Feature description\n",
            "           Goal Scored                          Number of goals scored by the team during the match.\n",
            "     Ball Possession %                   Percentage of ball possession by the team during the match.\n",
            "              Attempts                                Number of attempts or shots taken by the team.\n",
            "             On-Target                                          Number of shots that were on target.\n",
            "            Off-Target                                         Number of shots that went off target.\n",
            "               Blocked                            Number of shots that were blocked by the opponent.\n",
            "               Corners                                     Number of corner kicks taken by the team.\n",
            "              Offsides                                  Number of times the team was caught offside.\n",
            "            Free Kicks                                       Number of free kicks taken by the team.\n",
            "                 Saves                                Number of saves made by the team's goalkeeper.\n",
            "       Pass Accuracy %                    Percentage of passes that successfully reached a teammate.\n",
            "                Passes                                      Total number of passes made by the team.\n",
            "Distance Covered (Kms) Total distance covered by the team's players during the match, in kilometers.\n",
            "       Fouls Committed                                        Number of fouls committed by the team.\n",
            "           Yellow Card                                  Number of yellow cards received by the team.\n",
            "          Yellow & Red                              Number of yellow-red cards received by the team.\n",
            "                   Red                                     Number of red cards received by the team.\n",
            "          Goals in PSO               Number of goals scored by the team during the penalty shootout.\n",
            "          Goal against                  Number of goals that were conceded by the team's goalkeeper.\n",
            "    \n"
          ]
        }
      ],
      "source": [
        "story_generator = SHAPstory(\n",
        "    logreg_search.best_estimator_, \n",
        "    explainer, \n",
        "    llm, \n",
        "    features_df, \n",
        "    task_description, \n",
        "    input_description, \n",
        "    class_descriptions)\n",
        "shap_df, predictions_df = story_generator.gen_variables(x_test)\n",
        "prompt = story_generator.generate_prompt(x_test, predictions_df, shap_df, 0)\n",
        "print(prompt)"
      ]
    },
    {
      "cell_type": "code",
      "execution_count": 25,
      "metadata": {},
      "outputs": [
        {
          "name": "stdout",
          "output_type": "stream",
          "text": [
            "As I examined the SHAP table, it became clear that the AI model had pinpointed several key factors that led to its prediction of the team winning the \"Man of the Match\" award. The most influential feature was the number of goals scored by the team, which contributed a significant 1.37 points to the overall prediction. This suggests that the model deemed the team's goal-scoring ability as a major strength.\n",
            "\n",
            "However, there were also some notable negative contributions from other features. For instance, being caught offside multiple times resulted in a -1.01 point deduction, implying that the model viewed this aspect of their play as a weakness.\n",
            "\n",
            "The team's passing accuracy and distance covered also played a significant role in the prediction, with the former contributing a positive 0.31 points and the latter adding another 0.26 points. The AI model seemed to appreciate the team's ability to maintain possession and cover long distances on the pitch.\n",
            "\n",
            "Additionally, the number of free kicks taken by the team added a positive 0.24 points to the prediction, possibly indicating that the model valued this aspect of their attacking play.\n",
            "\n",
            "Considering these various factors, it appears that the AI model predicted the team would have a player win the \"Man of the Match\" award due to their impressive goal-scoring ability, efficient passing game, and capacity for long-range attacks.\n"
          ]
        }
      ],
      "source": [
        "stories = story_generator.generate_stories(x_test.iloc[:1])\n",
        "print(stories[0])"
      ]
    },
    {
      "cell_type": "code",
      "execution_count": 27,
      "metadata": {},
      "outputs": [
        {
          "name": "stdout",
          "output_type": "stream",
          "text": [
            "Model Coefficients:\n",
            "Goal Scored: 2.603174962718653\n",
            "Ball Possession %: -0.3667828313184956\n",
            "Attempts: -0.3940137557756107\n",
            "On-Target: -0.18941008058530623\n",
            "Off-Target: 0.3200078321708717\n",
            "Blocked: -0.3335095639603849\n",
            "Corners: 1.3077749468709388\n",
            "Offsides: 0.9696393748889564\n",
            "Free Kicks: 0.11204944408673453\n",
            "Saves: -0.020303591642769604\n",
            "Pass Accuracy %: 0.30569590335590757\n",
            "Passes: 0.11433448525682152\n",
            "Distance Covered (Kms): -0.32341688199139534\n",
            "Fouls Committed: -0.12127185186592503\n",
            "Yellow Card: 0.1681021394588032\n",
            "Yellow & Red: -0.03248507481350835\n",
            "Red: -0.3892388560444398\n",
            "Goals in PSO: 0.46306906879791354\n",
            "Goal against: -3.227996998385036\n"
          ]
        }
      ],
      "source": [
        "#print the model coefficients together with the feature names\n",
        "print(\"Model Coefficients:\")\n",
        "for feature, coeff in zip(x.columns, model.coef_[0]):\n",
        "    print(f\"{feature}: {coeff}\")"
      ]
    },
    {
      "cell_type": "code",
      "execution_count": 33,
      "metadata": {},
      "outputs": [
        {
          "data": {
            "text/plain": [
              "np.float64(1.3694334206710412)"
            ]
          },
          "execution_count": 33,
          "metadata": {},
          "output_type": "execute_result"
        }
      ],
      "source": [
        "2.603174962718653 * \\\n",
        "    (x_test_preprocessed.iloc[0][\"Goal Scored\"] -\n",
        "     x_test_preprocessed[\"Goal Scored\"].mean())"
      ]
    },
    {
      "cell_type": "code",
      "execution_count": 13,
      "metadata": {},
      "outputs": [
        {
          "data": {
            "text/plain": [
              "np.True_"
            ]
          },
          "execution_count": 13,
          "metadata": {},
          "output_type": "execute_result"
        }
      ],
      "source": [
        "y_test.iloc[0]"
      ]
    }
  ],
  "metadata": {
    "colab": {
      "provenance": []
    },
    "kernelspec": {
      "display_name": "Python 3",
      "name": "python3"
    },
    "language_info": {
      "codemirror_mode": {
        "name": "ipython",
        "version": 3
      },
      "file_extension": ".py",
      "mimetype": "text/x-python",
      "name": "python",
      "nbconvert_exporter": "python",
      "pygments_lexer": "ipython3",
      "version": "3.13.7"
    }
  },
  "nbformat": 4,
  "nbformat_minor": 0
}
