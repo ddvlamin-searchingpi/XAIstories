{
  "cells": [
    {
      "cell_type": "markdown",
      "metadata": {
        "id": "2g1xRwjcSwZp"
      },
      "source": [
        "# Tell Me a Story! - SHAPStories Example\n",
        "\n",
        "This notebook shows an example of how to generate SHAPstories using GPT models. In order to do this, you will require a OpenAI API key."
      ]
    },
    {
      "cell_type": "code",
      "execution_count": 1,
      "metadata": {
        "id": "S-jEsJfxRtO_"
      },
      "outputs": [],
      "source": [
        "#!git clone https://github.com/ADMAntwerp/XAIstories.git\n",
        "\n",
        "#!pip install -r XAIstories/requirements.txt"
      ]
    },
    {
      "cell_type": "code",
      "execution_count": null,
      "metadata": {
        "colab": {
          "base_uri": "https://localhost:8080/"
        },
        "id": "B7TGoHuPRz1o",
        "outputId": "0cd87a3a-9d0e-4757-c6f5-fca3533beb3c"
      },
      "outputs": [
        {
          "name": "stderr",
          "output_type": "stream",
          "text": [
            "/usr/local/lib/python3.11/site-packages/tqdm/auto.py:21: TqdmWarning: IProgress not found. Please update jupyter and ipywidgets. See https://ipywidgets.readthedocs.io/en/stable/user_install.html\n",
            "  from .autonotebook import tqdm as notebook_tqdm\n"
          ]
        }
      ],
      "source": [
        "import shap\n",
        "import pandas as pd\n",
        "import numpy as np\n",
        "import pickle\n",
        "import os\n",
        "\n",
        "from sklearn.ensemble import RandomForestClassifier\n",
        "from sklearn.svm import SVC\n",
        "from sklearn.model_selection import train_test_split\n",
        "from sklearn.metrics import accuracy_score\n",
        "\n",
        "from shapStories.stories import SHAPstory\n",
        "from shapStories.llm_wrappers import GeminiAPI"
      ]
    },
    {
      "cell_type": "markdown",
      "metadata": {
        "id": "B3cIJOTOR-t_"
      },
      "source": [
        "## FIFA Example"
      ]
    },
    {
      "cell_type": "markdown",
      "metadata": {},
      "source": [
        "### Load Pre-Trained Model and Data"
      ]
    },
    {
      "cell_type": "code",
      "execution_count": 4,
      "metadata": {},
      "outputs": [],
      "source": [
        "\n",
        "\n",
        "# Load Data and Split\n",
        "\n",
        "fifa_data = pd.read_csv(\"data/FIFA_2018_Statistics.csv\")\n",
        "\n",
        "feature_names = [i for i in fifa_data.columns if fifa_data[i].dtype in [np.int64, np.int64]]\n",
        "fifa_x = fifa_data[feature_names]\n",
        "\n",
        "fifa_y = (fifa_data[\"Man of the Match\"] == \"Yes\")\n",
        "\n",
        "fifa_x_train, fifa_x_test, fifa_y_train, fifa_y_test = train_test_split(fifa_x, fifa_y, test_size=0.2)"
      ]
    },
    {
      "cell_type": "markdown",
      "metadata": {},
      "source": [
        "### Train and Compare Accuracy of Various Models"
      ]
    },
    {
      "cell_type": "code",
      "execution_count": null,
      "metadata": {},
      "outputs": [
        {
          "name": "stdout",
          "output_type": "stream",
          "text": [
            "SVM Accuracy: 0.7692307692307693\n"
          ]
        }
      ],
      "source": [
        "# Train a SVM\n",
        "fifa_svm_model = SVC(kernel=\"linear\", probability=True)\n",
        "fifa_svm_model.fit(fifa_x_train, fifa_y_train)\n",
        "\n",
        "svm_predictions = fifa_svm_model.predict(fifa_x_test)\n",
        "\n",
        "svm_accuracy = accuracy_score(fifa_y_test, svm_predictions)\n",
        "print(\"SVM Accuracy:\", svm_accuracy)"
      ]
    },
    {
      "cell_type": "markdown",
      "metadata": {
        "id": "_wQLPn65Sapz"
      },
      "source": [
        "Manually Created Descriptions"
      ]
    },
    {
      "cell_type": "code",
      "execution_count": 6,
      "metadata": {
        "id": "Wmhge5RHSY6k"
      },
      "outputs": [],
      "source": [
        "feature_desc = [\n",
        "    'Number of goals scored by the team during the match.',\n",
        "    'Percentage of ball possession by the team during the match.',\n",
        "    'Number of attempts or shots taken by the team.',\n",
        "    'Number of shots that were on target.',\n",
        "    'Number of shots that went off target.',\n",
        "    'Number of shots that were blocked by the opponent.',\n",
        "    'Number of corner kicks taken by the team.',\n",
        "    'Number of times the team was caught offside.',\n",
        "    'Number of free kicks taken by the team.',\n",
        "    \"Number of saves made by the team's goalkeeper.\",\n",
        "    'Percentage of passes that successfully reached a teammate.',\n",
        "    'Total number of passes made by the team.',\n",
        "    \"Total distance covered by the team's players during the match, in kilometers.\",\n",
        "    'Number of fouls committed by the team.',\n",
        "    'Number of yellow cards received by the team.',\n",
        "    'Number of yellow-red cards received by the team.',\n",
        "    'Number of red cards received by the team.',\n",
        "    'Number of goals scored by the team during the penalty shootout.'\n",
        "]\n",
        "\n",
        "fifa_desc_df = pd.DataFrame({\n",
        "    \"feature_name\": list(fifa_x.columns),\n",
        "    \"feature_desc\": feature_desc\n",
        "})"
      ]
    },
    {
      "cell_type": "code",
      "execution_count": null,
      "metadata": {
        "id": "9eeDRSZ4SiSm"
      },
      "outputs": [],
      "source": [
        "fifa_dataset_description = \"\"\"whether a football team will have the \"Man of the Match\" winner in a FIFA Worldcup match, based on the team's statistics \"\"\"\n",
        "\n",
        "fifa_input_description = \"the match\"\n",
        "\n",
        "fifa_target_description = \"\"\"one of the team's players will be the \"Man of the Match\" winner\"\"\"\n",
        "\n",
        "api_key = os.getenv(\"API_KEY\")"
      ]
    },
    {
      "cell_type": "code",
      "execution_count": 8,
      "metadata": {},
      "outputs": [],
      "source": [
        "llm = GeminiAPI(api_key, \"gemini-2.0-flash-lite\")"
      ]
    },
    {
      "cell_type": "markdown",
      "metadata": {
        "id": "PmsE6j1QTIOr"
      },
      "source": [
        "Generate Stories for both pre-trained random forest and SVM"
      ]
    },
    {
      "cell_type": "code",
      "execution_count": null,
      "metadata": {},
      "outputs": [],
      "source": [
        "help(SHAPstory.generate_stories)"
      ]
    },
    {
      "cell_type": "code",
      "execution_count": 9,
      "metadata": {
        "id": "cNvc28nhSlkx"
      },
      "outputs": [
        {
          "name": "stderr",
          "output_type": "stream",
          "text": [
            "100%|██████████| 5/5 [00:00<00:00,  8.31it/s]\n"
          ]
        },
        {
          "name": "stdout",
          "output_type": "stream",
          "text": [
            "SVM story\n",
            "The model, driven by the instance's strong offensive performance, mistakenly predicted a high probability of the \"Man of the Match\" award. The team scored two goals, which significantly boosted the model's prediction. However, the prediction was suppressed by the number of passes and attempts. The team had 15 attempts, but the attempts had a negative impact on the output. The team's performance was limited by the high number of passes. The high pass accuracy and good possession were unable to offset this. In conclusion, the model overemphasized the goals scored while not adequately considering the context of the match.\n",
            "\n"
          ]
        }
      ],
      "source": [
        "fifaStory = SHAPstory(fifa_desc_df, fifa_dataset_description,\n",
        "                      fifa_input_description, fifa_target_description, llm)\n",
        "\n",
        "svm_stories = fifaStory.generate_stories(fifa_svm_model,fifa_x_test.head(),fifa_y_test.head(),tree=False)\n",
        "\n",
        "print(\"SVM story\")\n",
        "\n",
        "print(svm_stories[0])"
      ]
    },
    {
      "cell_type": "code",
      "execution_count": null,
      "metadata": {},
      "outputs": [],
      "source": []
    }
  ],
  "metadata": {
    "colab": {
      "provenance": []
    },
    "kernelspec": {
      "display_name": "Python 3",
      "name": "python3"
    },
    "language_info": {
      "codemirror_mode": {
        "name": "ipython",
        "version": 3
      },
      "file_extension": ".py",
      "mimetype": "text/x-python",
      "name": "python",
      "nbconvert_exporter": "python",
      "pygments_lexer": "ipython3",
      "version": "3.11.13"
    }
  },
  "nbformat": 4,
  "nbformat_minor": 0
}
